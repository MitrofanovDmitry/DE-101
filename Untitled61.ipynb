{
  "nbformat": 4,
  "nbformat_minor": 0,
  "metadata": {
    "colab": {
      "name": "Untitled61.ipynb",
      "provenance": [],
      "authorship_tag": "ABX9TyPIT1jgIjH6IxyRWsY8RcK6",
      "include_colab_link": true
    },
    "kernelspec": {
      "name": "python3",
      "display_name": "Python 3"
    },
    "language_info": {
      "name": "python"
    }
  },
  "cells": [
    {
      "cell_type": "markdown",
      "metadata": {
        "id": "view-in-github",
        "colab_type": "text"
      },
      "source": [
        "<a href=\"https://colab.research.google.com/github/MitrofanovDmitry/dataE/blob/main/Untitled61.ipynb\" target=\"_parent\"><img src=\"https://colab.research.google.com/assets/colab-badge.svg\" alt=\"Open In Colab\"/></a>"
      ]
    },
    {
      "cell_type": "code",
      "metadata": {
        "colab": {
          "base_uri": "https://localhost:8080/"
        },
        "id": "Ht6Ob8hyasyd",
        "outputId": "64f909b0-4849-43cd-e9bd-0137a4047890"
      },
      "source": [
        "from itertools import product \n",
        "\n",
        "n = 4 \n",
        "omega = sorted(product(['1','2','3','4','5','6'], repeat=n))\n",
        "#omega = sorted(product([1,2,3,4,5,6], repeat =n))\n",
        "print(len(omega))"
      ],
      "execution_count": 59,
      "outputs": [
        {
          "output_type": "stream",
          "text": [
            "1296\n"
          ],
          "name": "stdout"
        }
      ]
    },
    {
      "cell_type": "code",
      "metadata": {
        "colab": {
          "base_uri": "https://localhost:8080/"
        },
        "id": "X6skRe7kbPX3",
        "outputId": "b0e4ad84-6ec6-4c69-dfc0-4119e6d976e6"
      },
      "source": [
        "len(omega) == 6**4"
      ],
      "execution_count": 60,
      "outputs": [
        {
          "output_type": "execute_result",
          "data": {
            "text/plain": [
              "True"
            ]
          },
          "metadata": {
            "tags": []
          },
          "execution_count": 60
        }
      ]
    },
    {
      "cell_type": "code",
      "metadata": {
        "colab": {
          "base_uri": "https://localhost:8080/"
        },
        "id": "67QOe906bcod",
        "outputId": "2b7889d6-d3ed-4492-ba63-764e484e7e0c"
      },
      "source": [
        "omega[:15]"
      ],
      "execution_count": 61,
      "outputs": [
        {
          "output_type": "execute_result",
          "data": {
            "text/plain": [
              "[('1', '1', '1', '1'),\n",
              " ('1', '1', '1', '2'),\n",
              " ('1', '1', '1', '3'),\n",
              " ('1', '1', '1', '4'),\n",
              " ('1', '1', '1', '5'),\n",
              " ('1', '1', '1', '6'),\n",
              " ('1', '1', '2', '1'),\n",
              " ('1', '1', '2', '2'),\n",
              " ('1', '1', '2', '3'),\n",
              " ('1', '1', '2', '4'),\n",
              " ('1', '1', '2', '5'),\n",
              " ('1', '1', '2', '6'),\n",
              " ('1', '1', '3', '1'),\n",
              " ('1', '1', '3', '2'),\n",
              " ('1', '1', '3', '3')]"
            ]
          },
          "metadata": {
            "tags": []
          },
          "execution_count": 61
        }
      ]
    },
    {
      "cell_type": "code",
      "metadata": {
        "id": "XECgb62zbjQX"
      },
      "source": [
        "A = sorted({i for i in omega if i.count('6') >= 1})\n"
      ],
      "execution_count": 62,
      "outputs": []
    },
    {
      "cell_type": "code",
      "metadata": {
        "colab": {
          "base_uri": "https://localhost:8080/"
        },
        "id": "M5o9x4voc4JR",
        "outputId": "dc9804ac-ea8c-4c9c-b7b8-32bcbf5a6b4d"
      },
      "source": [
        "A[:10]"
      ],
      "execution_count": 63,
      "outputs": [
        {
          "output_type": "execute_result",
          "data": {
            "text/plain": [
              "[('1', '1', '1', '6'),\n",
              " ('1', '1', '2', '6'),\n",
              " ('1', '1', '3', '6'),\n",
              " ('1', '1', '4', '6'),\n",
              " ('1', '1', '5', '6'),\n",
              " ('1', '1', '6', '1'),\n",
              " ('1', '1', '6', '2'),\n",
              " ('1', '1', '6', '3'),\n",
              " ('1', '1', '6', '4'),\n",
              " ('1', '1', '6', '5')]"
            ]
          },
          "metadata": {
            "tags": []
          },
          "execution_count": 63
        }
      ]
    },
    {
      "cell_type": "code",
      "metadata": {
        "id": "Zjo13_ECc8iW"
      },
      "source": [
        "def prob(X):\n",
        "  return len(X)/len(omega)"
      ],
      "execution_count": 64,
      "outputs": []
    },
    {
      "cell_type": "code",
      "metadata": {
        "colab": {
          "base_uri": "https://localhost:8080/"
        },
        "id": "biP0gJHzgsQx",
        "outputId": "0ed36d52-bbfc-4047-cf34-a562dbbdd1a9"
      },
      "source": [
        "print(prob(A))"
      ],
      "execution_count": 65,
      "outputs": [
        {
          "output_type": "stream",
          "text": [
            "0.5177469135802469\n"
          ],
          "name": "stdout"
        }
      ]
    },
    {
      "cell_type": "markdown",
      "metadata": {
        "id": "UJU9SuxwhM2v"
      },
      "source": [
        "теперь посчитаем вероятность этого же события  другим способом - через вероятность его дополнения B = A**c.\n"
      ]
    },
    {
      "cell_type": "code",
      "metadata": {
        "colab": {
          "base_uri": "https://localhost:8080/"
        },
        "id": "9x1AJYeJgx_U",
        "outputId": "7c072fb1-5ad5-4cbf-add8-813b6869e261"
      },
      "source": [
        "B = sorted({i for i in omega if i.count('6') == 0})\n",
        "B[:15]"
      ],
      "execution_count": 66,
      "outputs": [
        {
          "output_type": "execute_result",
          "data": {
            "text/plain": [
              "[('1', '1', '1', '1'),\n",
              " ('1', '1', '1', '2'),\n",
              " ('1', '1', '1', '3'),\n",
              " ('1', '1', '1', '4'),\n",
              " ('1', '1', '1', '5'),\n",
              " ('1', '1', '2', '1'),\n",
              " ('1', '1', '2', '2'),\n",
              " ('1', '1', '2', '3'),\n",
              " ('1', '1', '2', '4'),\n",
              " ('1', '1', '2', '5'),\n",
              " ('1', '1', '3', '1'),\n",
              " ('1', '1', '3', '2'),\n",
              " ('1', '1', '3', '3'),\n",
              " ('1', '1', '3', '4'),\n",
              " ('1', '1', '3', '5')]"
            ]
          },
          "metadata": {
            "tags": []
          },
          "execution_count": 66
        }
      ]
    },
    {
      "cell_type": "code",
      "metadata": {
        "colab": {
          "base_uri": "https://localhost:8080/"
        },
        "id": "FVpEQuTLh_qw",
        "outputId": "dc9d7b56-7652-4f2b-833e-30e349cf323a"
      },
      "source": [
        "B[:15]"
      ],
      "execution_count": 67,
      "outputs": [
        {
          "output_type": "execute_result",
          "data": {
            "text/plain": [
              "[('1', '1', '1', '1'),\n",
              " ('1', '1', '1', '2'),\n",
              " ('1', '1', '1', '3'),\n",
              " ('1', '1', '1', '4'),\n",
              " ('1', '1', '1', '5'),\n",
              " ('1', '1', '2', '1'),\n",
              " ('1', '1', '2', '2'),\n",
              " ('1', '1', '2', '3'),\n",
              " ('1', '1', '2', '4'),\n",
              " ('1', '1', '2', '5'),\n",
              " ('1', '1', '3', '1'),\n",
              " ('1', '1', '3', '2'),\n",
              " ('1', '1', '3', '3'),\n",
              " ('1', '1', '3', '4'),\n",
              " ('1', '1', '3', '5')]"
            ]
          },
          "metadata": {
            "tags": []
          },
          "execution_count": 67
        }
      ]
    },
    {
      "cell_type": "code",
      "metadata": {
        "colab": {
          "base_uri": "https://localhost:8080/"
        },
        "id": "AyDoun42iCn2",
        "outputId": "a7f516d6-c8a5-44e8-8c66-d568012b31d7"
      },
      "source": [
        "print(1 - prob(B))"
      ],
      "execution_count": 68,
      "outputs": [
        {
          "output_type": "stream",
          "text": [
            "0.5177469135802469\n"
          ],
          "name": "stdout"
        }
      ]
    },
    {
      "cell_type": "markdown",
      "metadata": {
        "id": "newM2t0fjhkb"
      },
      "source": [
        "вероятностьь события B можно посчитать и в ручную: для кажддого исхода события B на каждый из 4 х его бросков есть ровно 5 варифнтов (число выпавших очков варьируеться от одного до 5ю Значит, B = 5**4 следовательно:\n",
        "  A = 6**4 - 5**4"
      ]
    },
    {
      "cell_type": "code",
      "metadata": {
        "colab": {
          "base_uri": "https://localhost:8080/"
        },
        "id": "Fd4bEoX-iSX-",
        "outputId": "acc04ca0-38a5-480c-829c-0b6ee89d9031"
      },
      "source": [
        "p = (6**4 - 5**4) / (6**4)\n",
        "print(p)"
      ],
      "execution_count": 69,
      "outputs": [
        {
          "output_type": "stream",
          "text": [
            "0.5177469135802469\n"
          ],
          "name": "stdout"
        }
      ]
    },
    {
      "cell_type": "code",
      "metadata": {
        "colab": {
          "base_uri": "https://localhost:8080/"
        },
        "id": "tKc_-x0xlFmv",
        "outputId": "f15b2875-3034-4153-cc30-fa5de7d6af5a"
      },
      "source": [
        "prob(A) == 1 - prob(B) == p"
      ],
      "execution_count": 70,
      "outputs": [
        {
          "output_type": "execute_result",
          "data": {
            "text/plain": [
              "True"
            ]
          },
          "metadata": {
            "tags": []
          },
          "execution_count": 70
        }
      ]
    },
    {
      "cell_type": "code",
      "metadata": {
        "colab": {
          "base_uri": "https://localhost:8080/"
        },
        "id": "rehdnTLelPrC",
        "outputId": "0e235a7c-da0e-420b-c4bc-65470c64d52f"
      },
      "source": [
        "omega = set(product(['1', '2', '3', '4', '5', '6'], repeat=2))\n",
        "omega"
      ],
      "execution_count": 71,
      "outputs": [
        {
          "output_type": "execute_result",
          "data": {
            "text/plain": [
              "{('1', '1'),\n",
              " ('1', '2'),\n",
              " ('1', '3'),\n",
              " ('1', '4'),\n",
              " ('1', '5'),\n",
              " ('1', '6'),\n",
              " ('2', '1'),\n",
              " ('2', '2'),\n",
              " ('2', '3'),\n",
              " ('2', '4'),\n",
              " ('2', '5'),\n",
              " ('2', '6'),\n",
              " ('3', '1'),\n",
              " ('3', '2'),\n",
              " ('3', '3'),\n",
              " ('3', '4'),\n",
              " ('3', '5'),\n",
              " ('3', '6'),\n",
              " ('4', '1'),\n",
              " ('4', '2'),\n",
              " ('4', '3'),\n",
              " ('4', '4'),\n",
              " ('4', '5'),\n",
              " ('4', '6'),\n",
              " ('5', '1'),\n",
              " ('5', '2'),\n",
              " ('5', '3'),\n",
              " ('5', '4'),\n",
              " ('5', '5'),\n",
              " ('5', '6'),\n",
              " ('6', '1'),\n",
              " ('6', '2'),\n",
              " ('6', '3'),\n",
              " ('6', '4'),\n",
              " ('6', '5'),\n",
              " ('6', '6')}"
            ]
          },
          "metadata": {
            "tags": []
          },
          "execution_count": 71
        }
      ]
    },
    {
      "cell_type": "code",
      "metadata": {
        "colab": {
          "base_uri": "https://localhost:8080/"
        },
        "id": "-j6q2ZoumF6O",
        "outputId": "b4fc8b0d-86e3-4234-8d89-2f3f34499943"
      },
      "source": [
        "print(len(omega))"
      ],
      "execution_count": 72,
      "outputs": [
        {
          "output_type": "stream",
          "text": [
            "36\n"
          ],
          "name": "stdout"
        }
      ]
    },
    {
      "cell_type": "markdown",
      "metadata": {
        "id": "NFTzZJC5ncGz"
      },
      "source": [
        "Проще всего посчитать данную вероятность аналитически, через вероятность дополнения данного события. В каждом исходе из дополнения могут реализоваться все исходы, кроме выпадения двух шестерок, то есть 35 вариантов из 36. Поскольку бросков 24, вероятность дополнения нашего события равна  (35/36)**24 .\n"
      ]
    },
    {
      "cell_type": "code",
      "metadata": {
        "id": "nQGR-DIemOtE"
      },
      "source": [
        "r = 1- (35/36)**24"
      ],
      "execution_count": 73,
      "outputs": []
    },
    {
      "cell_type": "code",
      "metadata": {
        "colab": {
          "base_uri": "https://localhost:8080/"
        },
        "id": "3lbO45lSnqjQ",
        "outputId": "ef3da1f5-b5dc-4f7c-fe3c-556b8aa7dc48"
      },
      "source": [
        "r"
      ],
      "execution_count": 74,
      "outputs": [
        {
          "output_type": "execute_result",
          "data": {
            "text/plain": [
              "0.4914038761309034"
            ]
          },
          "metadata": {
            "tags": []
          },
          "execution_count": 74
        }
      ]
    },
    {
      "cell_type": "markdown",
      "metadata": {
        "id": "wokJ018jnw4W"
      },
      "source": [
        "Как видим, найденная вероятность меньше 50%, поэтому при большом количестве игр кавалер де Мере будет в проигрыше."
      ]
    },
    {
      "cell_type": "code",
      "metadata": {
        "id": "UyOWZx7hnrJk"
      },
      "source": [
        ""
      ],
      "execution_count": null,
      "outputs": []
    }
  ]
}